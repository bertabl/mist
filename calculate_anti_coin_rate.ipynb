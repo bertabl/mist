{
 "cells": [
  {
   "cell_type": "code",
   "execution_count": 1,
   "id": "68049691",
   "metadata": {
    "scrolled": true
   },
   "outputs": [
    {
     "name": "stdout",
     "output_type": "stream",
     "text": [
      "Welcome to JupyROOT 6.28/00\n"
     ]
    }
   ],
   "source": [
    "import ROOT\n",
    "from ROOT import gStyle\n",
    "gStyle.SetOptStat(0)"
   ]
  },
  {
   "cell_type": "code",
   "execution_count": 5,
   "id": "e24d9883",
   "metadata": {},
   "outputs": [],
   "source": [
    "myFile_gel = ROOT.TFile.Open(\"/Users/bertabeltran/mist/data/anticoincidence/anticoincidence_test_16n_3d_thres_long/RAW/HcompassR_anticoincidence_test_16n_3d_thres_long_20240531_101517.root\")\n",
    "#myFile_gel = ROOT.TFile.Open(\"/Users/bertabeltran/mist/data/anticoincidence/anticoincidence_second_run/RAW/HcompassR_anticoincidence_second_run_20240605_141641.root\")"
   ]
  },
  {
   "cell_type": "code",
   "execution_count": 6,
   "id": "af0096ee",
   "metadata": {},
   "outputs": [
    {
     "name": "stdout",
     "output_type": "stream",
     "text": [
      "TFile**\t\t/Users/bertabeltran/mist/data/anticoincidence/anticoincidence_test_16n_3d_thres_long/RAW/HcompassR_anticoincidence_test_16n_3d_thres_long_20240531_101517.root\t\n",
      " TFile*\t\t/Users/bertabeltran/mist/data/anticoincidence/anticoincidence_test_16n_3d_thres_long/RAW/HcompassR_anticoincidence_test_16n_3d_thres_long_20240531_101517.root\t\n",
      "  KEY: TDirectoryFile\tEnergy;1\tEnergy\n",
      "  KEY: TDirectoryFile\tTime;1\tTime\n",
      "  KEY: TDirectoryFile\tPSD;1\tPSD\n",
      "  KEY: TDirectoryFile\tPSD_E;1\tPSD_E\n",
      "  KEY: TTime\tRealTime_0;1\tobject title\n",
      "  KEY: TTime\tLiveTime_0;1\tobject title\n",
      "  KEY: TTime\tRealTime_1;1\tobject title\n",
      "  KEY: TTime\tLiveTime_1;1\tobject title\n",
      "  KEY: TTime\tRealTime_2;1\tobject title\n",
      "  KEY: TTime\tLiveTime_2;1\tobject title\n"
     ]
    }
   ],
   "source": [
    "myFile_gel.ls()"
   ]
  },
  {
   "cell_type": "code",
   "execution_count": 7,
   "id": "bc9e6dfa",
   "metadata": {},
   "outputs": [
    {
     "name": "stdout",
     "output_type": "stream",
     "text": [
      "real time scint2(sec) 65155.802 live time scint 2(sec) 65156.161\n"
     ]
    }
   ],
   "source": [
    "live_time_2=myFile_gel.Get(\"LiveTime_2\")\n",
    "#live_time_2=myFile_gel.Get(\"RealTime_2\")\n",
    "ltime_2=live_time_2.AsString()# lenth of run in milisecons \n",
    "ltime_sec_2=int(ltime_2)/1000 # we make it into seconds \n",
    "\n",
    "real_time_0=myFile_gel.Get(\"RealTime_2\")\n",
    "time_0=real_time_0.AsString()# lenth of run in milisecons \n",
    "time_sec_0=int(time_0)/1000 # we make it into seconds \n",
    "\n",
    "\n",
    "print(\"real time scint2(sec)\", ltime_sec_2, \"live time scint 2(sec)\", time_sec_0)"
   ]
  },
  {
   "cell_type": "code",
   "execution_count": null,
   "id": "b669393b",
   "metadata": {},
   "outputs": [],
   "source": [
    "real_time_1=myFile_gel.Get(\"RealTime_1\")\n",
    "time_1=real_time_1.AsString()# lenth of run in milisecons \n",
    "time_sec_1=int(time_1)/1000 # we make it into seconds \n",
    "time_sec_1/3600"
   ]
  },
  {
   "cell_type": "code",
   "execution_count": null,
   "id": "4c91c249",
   "metadata": {},
   "outputs": [],
   "source": [
    "dir_gel = myFile_gel.GetDirectory(\"Energy\");"
   ]
  },
  {
   "cell_type": "code",
   "execution_count": null,
   "id": "acad7144",
   "metadata": {
    "scrolled": true
   },
   "outputs": [],
   "source": [
    "dir_gel.ls()"
   ]
  },
  {
   "cell_type": "code",
   "execution_count": null,
   "id": "a7203bd9",
   "metadata": {
    "scrolled": true
   },
   "outputs": [],
   "source": [
    "hist_gel_0 = dir_gel.Get(\"_R_EnergyCH2@DT5751_1615;1\")\n",
    "#hist_gel_0.Rebin(7)\n",
    "c0 = ROOT.TCanvas(\"c0\",\" \",800,600)\n",
    "\n",
    "integral_0=hist_gel_0.Integral(1500,4500) \n",
    "print(integral_0)\n",
    "\n",
    "hist_gel_0.GetYaxis().SetTitleOffset(1.2)\n",
    "hist_gel_0.SetTitle(\"Scintialltor in anti-coincidence\")\n",
    "\n",
    "hist_gel_0.Draw()\n",
    "c0.Draw()\n",
    "ROOT.gPad.SetLogy()\n",
    "\n",
    "#nbins=hist_gel_0.GetNbinsX()\n",
    "#nbins"
   ]
  },
  {
   "cell_type": "code",
   "execution_count": null,
   "id": "73fd7303",
   "metadata": {},
   "outputs": [],
   "source": [
    "import uproot\n",
    "import numpy as np\n",
    "from matplotlib import pyplot as plt\n",
    "from os import path"
   ]
  },
  {
   "cell_type": "code",
   "execution_count": null,
   "id": "44f7eead",
   "metadata": {},
   "outputs": [],
   "source": [
    "#Open ROOT file\n",
    "file_path = \"/Users/bertabeltran/mist/data/anticoincidence/anticoincidence_second_run/RAW/SDataR_anticoincidence_second_run.root\"\n",
    "file=uproot.open(file_path)\n",
    "tree=file[\"Data_R\"]\n",
    "print(tree.keys())\n",
    "\n",
    "#Load data for channels and timestamps\n",
    "#timestamps = tree[\"Timestamp\"].array(library = \"np\")*10**(-3) #Convert picoseconds to nano\n",
    "timestamps = tree[\"Timestamp\"].array(library = \"np\") # picoseconds\n",
    "channel = tree[\"Channel\"].array(library = \"np\")\n",
    "energy = tree[\"Energy\"].array(library = \"np\")\n",
    "flags = tree[\"Flags\"].array(library = \"np\")"
   ]
  },
  {
   "cell_type": "code",
   "execution_count": null,
   "id": "bd7958c1",
   "metadata": {},
   "outputs": [],
   "source": [
    "#Create masks for channels\n",
    "CH0_mask = channel == 0\n",
    "CH1_mask = channel == 1\n",
    "CH2_mask = channel == 2\n",
    "\n",
    "\n",
    "#Get timestamps for each channel (time in picoseconds from the begining of the run)\n",
    "CH0_timestamps = timestamps[CH0_mask]\n",
    "CH1_timestamps = timestamps[CH1_mask]\n",
    "CH2_timestamps = timestamps[CH2_mask]\n",
    "\n",
    "\n",
    "#Calculate energy of events on each channel\n",
    "CH0_energy = energy[CH0_mask]\n",
    "CH1_energy = energy[CH1_mask]\n",
    "CH2_energy = energy[CH2_mask]\n"
   ]
  },
  {
   "cell_type": "code",
   "execution_count": null,
   "id": "696dc01a",
   "metadata": {},
   "outputs": [],
   "source": [
    "#calcualte how many events we have in this run in the anticoincidemce channel \n",
    "len(CH2_timestamps)"
   ]
  },
  {
   "cell_type": "code",
   "execution_count": null,
   "id": "7072c3a7",
   "metadata": {},
   "outputs": [],
   "source": [
    "# alternaive way to get the life time of the run by loooking at last time stamp- first timestamp \n",
    "mytime=(CH2_timestamps[-1]-CH2_timestamps[0])/1e+12\n",
    "mytime"
   ]
  },
  {
   "cell_type": "code",
   "execution_count": null,
   "id": "c91d50f1",
   "metadata": {},
   "outputs": [],
   "source": [
    "# calculate the rate by dividing the total numer of events by the run live time \n",
    "len(CH2_timestamps)/ltime_sec_2"
   ]
  },
  {
   "cell_type": "code",
   "execution_count": null,
   "id": "f77aa24e",
   "metadata": {},
   "outputs": [],
   "source": [
    "# or with our calculated lifetime \n",
    "len(CH2_timestamps)/mytime"
   ]
  },
  {
   "cell_type": "code",
   "execution_count": null,
   "id": "b31a2e3c",
   "metadata": {},
   "outputs": [],
   "source": [
    "# calculate the time difference between coincidences events by looking at the time differences in ch0 for exmaple \n",
    "CH2_time_diff = np.diff(CH2_timestamps)"
   ]
  },
  {
   "cell_type": "code",
   "execution_count": null,
   "id": "a70c7a4f",
   "metadata": {},
   "outputs": [],
   "source": [
    "# now we transform these time differences into seconds \n",
    "CH2_time_diff=CH2_time_diff/1e+12\n",
    "CH2_time_diff\n"
   ]
  },
  {
   "cell_type": "code",
   "execution_count": null,
   "id": "82bcc7f9",
   "metadata": {},
   "outputs": [],
   "source": [
    "# I create this plot in Root as I am better a fititng it than with curve_fit in pythin for example \n",
    "h=ROOT.TH1D(\"h1\", \"Time differeces in the anticoincidence scintillator\", 100, 0, 4)\n",
    "for xeach in CH2_time_diff:\n",
    "    h.Fill(xeach)\n",
    "    \n",
    "    \n",
    "# Fit histogram with root #\n",
    "h.Fit('expo','','',0,3)\n",
    "\n",
    "# Get Root Fit and Goodness of Fit Parameters #\n",
    "f = h.GetFunction('expo')\n",
    "p0,p1 = f.GetParameter(0), f.GetParameter(1)\n",
    "ep0,ep1 = f.GetParError(0), f.GetParError(1)\n",
    "    \n",
    "  \n",
    "c1 = ROOT.TCanvas(\"c0\",\" \",800,600)\n",
    "h.Draw()\n",
    "h.GetXaxis().SetTitle(\"Time (s)\") \n",
    "\n",
    "latex = ROOT.TLatex() \n",
    "latex.SetNDC() \n",
    "latex.SetTextSize(0.03)\n",
    "latex.DrawText(0.5,0.6,\"fit=exp(%.1f +%0.1fx)\"%(p0,p1))  \n",
    "latex.DrawText(0.5,0.5,\"rate=%0.1f counts per second\"%(abs(p1))) \n",
    "ROOT.gPad.SetLogy()\n",
    "c1.Draw()\n",
    "c1.SaveAs(\"/Users/bertabeltran/MIST/data/anticoincidence/rate.png\")"
   ]
  },
  {
   "cell_type": "code",
   "execution_count": null,
   "id": "14e05c04",
   "metadata": {},
   "outputs": [],
   "source": [
    "#Plot time difference in chan 2\n",
    "#plt.hist(CH2_time_diff, bins = 100,range=(0,4),histtype='stepfilled' ,density=True,color ='orange')\n",
    "plt.hist(CH2_time_diff, bins = 100,histtype='stepfilled',color ='orange')\n",
    "ax3=plt.gca()\n",
    "ax3.set_title(\"Scint2 Event Time Differences\")\n",
    "ax3.set_xlabel(\"Time differeces (s) \")\n",
    "plt.yscale('log')\n",
    "\n",
    "\n",
    "plt.show()\n"
   ]
  },
  {
   "cell_type": "code",
   "execution_count": null,
   "id": "4ad7f098",
   "metadata": {
    "scrolled": true
   },
   "outputs": [],
   "source": [
    "#I also want to plot the time differneces in chan0, one of the channels in coincidence \n",
    "\n",
    "\n",
    "\n",
    "CH0_time_diff = np.diff(CH0_timestamps)\n",
    "CH0_time_diff=CH0_time_diff/1e+12  #make it seconds \n",
    "\n",
    "plt.hist(CH0_time_diff, bins = 100, histtype='stepfilled',color ='orange')\n",
    "#plt.hist(CH0_time_diff, bins = 100,range=(0,4), histtype='stepfilled' ,density=True,color ='orange')\n",
    "ax3=plt.gca()\n",
    "ax3.set_title(\"Scint0 (coincidence) Event Time Differences\")\n",
    "ax3.set_xlabel(\"Time differeces (s) \")\n",
    "plt.yscale('log')\n",
    "\n",
    "\n",
    "plt.show()\n"
   ]
  },
  {
   "cell_type": "code",
   "execution_count": null,
   "id": "b84e5e78",
   "metadata": {},
   "outputs": [],
   "source": [
    "# I want to calculate the dead time in channel 2 by looking at how many events we have in coincidence \n",
    "# and multiplying it by the 16ns that we have as an anticoincidence window \n",
    "num_coin=len(CH0_timestamps)\n",
    "dead_time=num_coin*16e-9\n",
    "print(\"dead time (sec)\",dead_time)"
   ]
  },
  {
   "cell_type": "code",
   "execution_count": null,
   "id": "718760b2",
   "metadata": {},
   "outputs": [],
   "source": [
    "# now I am going to try and fit the time differences plot with curve_fit\n",
    "\n",
    "import numpy as np\n",
    "from scipy.optimize import curve_fit\n",
    "#firts I define the exponential fucntion that I will be fitting \n",
    "def expo(x, a, b):\n",
    "    return  np.exp(a+(b*x))\n",
    "\n",
    "#here I caculate the bin centers for the fit               \n",
    "def bincenters(bins):\n",
    "    return (bins[1:] + bins[:-1]) / 2\n",
    "                   \n",
    "# define the histogram that I will be fitting to and return the bin contents and the bid edeges    \n",
    "bin_cont, bin_edges, patches = plt.hist(CH2_time_diff, bins = 100,histtype='stepfilled' , color ='blue',label =\"Time Differences\")\n",
    "                   \n",
    "# here I do the fit a return the fit values     \n",
    "param, param_cov = curve_fit(expo, bincenters(bin_edges),bin_cont)\n",
    "                   \n",
    "# print the values     \n",
    "print(\"Expo function coefficients:\")\n",
    "print(param)\n",
    "print(\"Covariance of coefficients:\")\n",
    "print(param_cov)\n",
    "\n",
    "# now I also want to draw the fitted function on top of the histogram \n",
    "fit_func= expo(bincenters(bin_edges),param[0] ,param[1] )\n",
    "plt.plot(bincenters(bin_edges), fit_func, 'red', linewidth=2, label =\"fit function \")       \n",
    "\n",
    "fit_eq= r\"exp$({:.2f} {:.2f}x)$\".format(param[0] ,param[1])\n",
    "\n",
    "ax=plt.gca()\n",
    "ax.text(1.2, 100, fit_eq, fontsize=15)\n",
    "ax.text(1.4, 10, \"rate={:.2f} cps\".format(abs(param[1])), fontsize=15)\n",
    "\n",
    "plt.legend()\n",
    "plt.yscale('log')\n",
    "ax.set_title(\"Scint1 Event Time Differences\")\n",
    "ax.set_xlabel(\"Time differeces (s) \")\n",
    "ax.set_ylabel('Number of Events')\n",
    "plt.show()"
   ]
  },
  {
   "cell_type": "code",
   "execution_count": null,
   "id": "b6853a2d",
   "metadata": {},
   "outputs": [],
   "source": [
    "# caculate the event rate for chan 2, which is the one in anticoincidence \n",
    "# first convert the time stamps to seconds \n",
    "CH2_timestamps=CH2_timestamps/1e+12\n",
    "CH2_timestamps"
   ]
  },
  {
   "cell_type": "code",
   "execution_count": null,
   "id": "764c1816",
   "metadata": {},
   "outputs": [],
   "source": [
    "#now I floor this array to see only seconds \n",
    "rate=np.floor(CH2_timestamps)\n",
    "rate"
   ]
  },
  {
   "cell_type": "code",
   "execution_count": null,
   "id": "669f60eb",
   "metadata": {
    "scrolled": true
   },
   "outputs": [],
   "source": [
    "import matplotlib.pyplot as plt \n",
    "bin_contents, bin_edges, patches =plt.hist(rate,bins = 7134)\n",
    "#bin_contents, bin_edges, patches =plt.hist(rate, bins = 6832,range=(0,6831))\n",
    "#bin_centers = bin_edges[:-1] + np.diff(bin_edges) / 2\n",
    "ax = plt.gca()\n",
    "ax.set_ylabel(\"Count per second\")\n",
    "ax.set_xlabel(\"Seconds from the begining of the run\")"
   ]
  },
  {
   "cell_type": "code",
   "execution_count": null,
   "id": "ab5a800b",
   "metadata": {},
   "outputs": [],
   "source": [
    "# I see that there are gaps in the rate histogram where the counts per second are 0\n",
    "# I want to look at the bins that are not like that \n",
    "nonzero_bin_contents=bin_contents[bin_contents!=0]"
   ]
  },
  {
   "cell_type": "code",
   "execution_count": null,
   "id": "0dfacb8b",
   "metadata": {},
   "outputs": [],
   "source": [
    "# this is the rate when we don't take those gaps in the data into account\n",
    "# was the digitizer dead for those gaps? I can not see how they are real \n",
    "# this rate also agrees with what we get from fitting the exponential \n",
    "np.mean(nonzero_bin_contents)"
   ]
  },
  {
   "cell_type": "code",
   "execution_count": null,
   "id": "e4d968ed",
   "metadata": {},
   "outputs": [],
   "source": [
    "# this is the rate that we get when we take into account all the data gaps, but that can not be real \n",
    "np.mean(bin_contents)"
   ]
  },
  {
   "cell_type": "code",
   "execution_count": null,
   "id": "cac5e449",
   "metadata": {},
   "outputs": [],
   "source": [
    "bin_edges"
   ]
  },
  {
   "cell_type": "code",
   "execution_count": null,
   "id": "093c9d52",
   "metadata": {},
   "outputs": [],
   "source": [
    "import matplotlib.pyplot as plt \n",
    "from scipy.stats import norm\n",
    "\n",
    "plt.hist(nonzero_bin_contents, density=True)\n",
    "#plt.hist(bin_contents, density=True,bins =13,range=(1,14))\n",
    "\n",
    "\n",
    "ax = plt.gca()\n",
    "ax.set_xlabel(\"Rate (counts per second)\")\n",
    " \n",
    "plt.show()"
   ]
  },
  {
   "cell_type": "code",
   "execution_count": null,
   "id": "32579619",
   "metadata": {},
   "outputs": [],
   "source": []
  }
 ],
 "metadata": {
  "kernelspec": {
   "display_name": "Python 3 (ipykernel)",
   "language": "python",
   "name": "python3"
  },
  "language_info": {
   "codemirror_mode": {
    "name": "ipython",
    "version": 3
   },
   "file_extension": ".py",
   "mimetype": "text/x-python",
   "name": "python",
   "nbconvert_exporter": "python",
   "pygments_lexer": "ipython3",
   "version": "3.11.5"
  }
 },
 "nbformat": 4,
 "nbformat_minor": 5
}
