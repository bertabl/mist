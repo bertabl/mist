{
 "cells": [
  {
   "cell_type": "code",
   "execution_count": 1,
   "id": "68049691",
   "metadata": {},
   "outputs": [
    {
     "name": "stdout",
     "output_type": "stream",
     "text": [
      "Welcome to JupyROOT 6.28/00\n"
     ]
    }
   ],
   "source": [
    "import ROOT\n",
    "from ROOT import gStyle\n",
    "gStyle.SetOptStat(0)"
   ]
  },
  {
   "cell_type": "code",
   "execution_count": 2,
   "id": "e24d9883",
   "metadata": {},
   "outputs": [],
   "source": [
    "myFile_gel = ROOT.TFile.Open(\"/Users/bertabeltran/MIST/data/anticoincidence/anticoincidence_long/FILTERED/HcompassF_anticoincidence_long_20240514_105822.root\")"
   ]
  },
  {
   "cell_type": "code",
   "execution_count": 20,
   "id": "af0096ee",
   "metadata": {},
   "outputs": [
    {
     "name": "stdout",
     "output_type": "stream",
     "text": [
      "TFile**\t\t/Users/bertabeltran/MIST/data/anticoincidence/anticoincidence_long/FILTERED/HcompassF_anticoincidence_long_20240514_105822.root\t\n",
      " TFile*\t\t/Users/bertabeltran/MIST/data/anticoincidence/anticoincidence_long/FILTERED/HcompassF_anticoincidence_long_20240514_105822.root\t\n",
      "  TDirectoryFile*\t\tEnergy\tEnergy\n",
      "   KEY: TH1D\t_F_EnergyCH0@DT5751_1616;1\t\n",
      "   KEY: CalibrationCoefficient\tCalibration_0;1\tobject title\n",
      "   KEY: TH1D\t_F_EnergyCH1@DT5751_1616;1\t\n",
      "   KEY: CalibrationCoefficient\tCalibration_1;1\tobject title\n",
      "  KEY: TDirectoryFile\tEnergy;1\tEnergy\n",
      "  KEY: TDirectoryFile\tTime;1\tTime\n",
      "  KEY: TDirectoryFile\tPSD;1\tPSD\n",
      "  KEY: TDirectoryFile\tPSD_E;1\tPSD_E\n",
      "  KEY: TTime\tRealTime_0;1\tobject title\n",
      "  KEY: TTime\tLiveTime_0;1\tobject title\n",
      "  KEY: TTime\tRealTime_1;1\tobject title\n",
      "  KEY: TTime\tLiveTime_1;1\tobject title\n"
     ]
    }
   ],
   "source": [
    "myFile_gel.ls()"
   ]
  },
  {
   "cell_type": "code",
   "execution_count": 45,
   "id": "95d89c72",
   "metadata": {},
   "outputs": [
    {
     "name": "stdout",
     "output_type": "stream",
     "text": [
      "real time 67854.132 live time 67854.132\n"
     ]
    }
   ],
   "source": [
    "live_time_0=myFile_gel.Get(\"LiveTime_0\")\n",
    "ltime_0=live_time_0.AsString()# lenth of run in milisecons \n",
    "ltime_sec_0=int(ltime_0)/1000 # we make it into seconds \n",
    "\n",
    "real_time_0=myFile_gel.Get(\"RealTime_0\")\n",
    "time_0=real_time_0.AsString()# lenth of run in milisecons \n",
    "time_sec_0=int(time_0)/1000 # we make it into seconds \n",
    "time_sec_0\n",
    "\n",
    "print(\"real time\", ltime_sec_0, \"live time\", ltime_sec_0)"
   ]
  },
  {
   "cell_type": "code",
   "execution_count": 22,
   "id": "d8eea1f6",
   "metadata": {},
   "outputs": [
    {
     "data": {
      "text/plain": [
       "67862.789"
      ]
     },
     "execution_count": 22,
     "metadata": {},
     "output_type": "execute_result"
    }
   ],
   "source": [
    "real_time_1=myFile_gel.Get(\"RealTime_1\")\n",
    "time_1=real_time_1.AsString()# lenth of run in milisecons \n",
    "time_sec_1=int(time_1)/1000 # we make it into seconds \n",
    "time_sec_1"
   ]
  },
  {
   "cell_type": "code",
   "execution_count": 23,
   "id": "4c91c249",
   "metadata": {},
   "outputs": [],
   "source": [
    "dir_gel = myFile_gel.GetDirectory(\"Energy\");"
   ]
  },
  {
   "cell_type": "code",
   "execution_count": 24,
   "id": "acad7144",
   "metadata": {
    "scrolled": true
   },
   "outputs": [
    {
     "name": "stdout",
     "output_type": "stream",
     "text": [
      "TDirectoryFile*\t\tEnergy\tEnergy\n",
      " KEY: TH1D\t_F_EnergyCH0@DT5751_1616;1\t\n",
      " KEY: CalibrationCoefficient\tCalibration_0;1\tobject title\n",
      " KEY: TH1D\t_F_EnergyCH1@DT5751_1616;1\t\n",
      " KEY: CalibrationCoefficient\tCalibration_1;1\tobject title\n"
     ]
    }
   ],
   "source": [
    "dir_gel.ls()"
   ]
  },
  {
   "cell_type": "code",
   "execution_count": 46,
   "id": "a7203bd9",
   "metadata": {},
   "outputs": [
    {
     "name": "stdout",
     "output_type": "stream",
     "text": [
      "79912.0\n"
     ]
    },
    {
     "data": {
      "text/plain": [
       "1.1775046743894266"
      ]
     },
     "execution_count": 46,
     "metadata": {},
     "output_type": "execute_result"
    },
    {
     "name": "stderr",
     "output_type": "stream",
     "text": [
      "Warning in <TCanvas::Constructor>: Deleting canvas with same name: c0\n"
     ]
    },
    {
     "data": {
      "image/png": "[encoded data removed]",
      "text/plain": [
       "<IPython.core.display.Image object>"
      ]
     },
     "metadata": {},
     "output_type": "display_data"
    }
   ],
   "source": [
    "hist_gel_0 = dir_gel.Get(\"_F_EnergyCH0@DT5751_1616;1\")\n",
    "#hist_gel_0.Rebin(7)\n",
    "c0 = ROOT.TCanvas(\"c0\",\" \",800,600)\n",
    "\n",
    "integral_0=hist_gel_0.Integral(1500,4500) \n",
    "print(integral_0)\n",
    "hist_gel_0.Draw()\n",
    "c0.Draw()\n",
    "\n",
    "rate=integral_0/time_sec_0\n",
    "rate\n",
    "\n",
    "#nbins=hist_gel_0.GetNbinsX()\n",
    "#nbins"
   ]
  },
  {
   "cell_type": "code",
   "execution_count": null,
   "id": "73fd7303",
   "metadata": {},
   "outputs": [],
   "source": []
  }
 ],
 "metadata": {
  "kernelspec": {
   "display_name": "Python 3 (ipykernel)",
   "language": "python",
   "name": "python3"
  },
  "language_info": {
   "codemirror_mode": {
    "name": "ipython",
    "version": 3
   },
   "file_extension": ".py",
   "mimetype": "text/x-python",
   "name": "python",
   "nbconvert_exporter": "python",
   "pygments_lexer": "ipython3",
   "version": "3.11.5"
  }
 },
 "nbformat": 4,
 "nbformat_minor": 5
}
