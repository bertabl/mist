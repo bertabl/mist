{
 "cells": [
  {
   "cell_type": "code",
   "execution_count": 1,
   "id": "68049691",
   "metadata": {},
   "outputs": [
    {
     "name": "stdout",
     "output_type": "stream",
     "text": [
      "Welcome to JupyROOT 6.26/08\n"
     ]
    }
   ],
   "source": [
    "import ROOT\n",
    "from ROOT import gStyle"
   ]
  },
  {
   "cell_type": "code",
   "execution_count": 2,
   "id": "e24d9883",
   "metadata": {},
   "outputs": [],
   "source": [
    "myFile_bkg = ROOT.TFile.Open(\"/Users/bertabeltran/muon_data/data/wls/June5_amp_WavelengthShifter_FreeWrites_ListOnly_Background/FILTERED/HcompassF_June5_amp_WavelengthShifter_FreeWrites_ListOnly_Background_20230606_102516.root\")"
   ]
  },
  {
   "cell_type": "code",
   "execution_count": 3,
   "id": "af0096ee",
   "metadata": {},
   "outputs": [
    {
     "name": "stdout",
     "output_type": "stream",
     "text": [
      "TFile**\t\t/Users/bertabeltran/muon_data/data/wls/June5_amp_WavelengthShifter_FreeWrites_ListOnly_Background/FILTERED/HcompassF_June5_amp_WavelengthShifter_FreeWrites_ListOnly_Background_20230606_102516.root\t\n",
      " TFile*\t\t/Users/bertabeltran/muon_data/data/wls/June5_amp_WavelengthShifter_FreeWrites_ListOnly_Background/FILTERED/HcompassF_June5_amp_WavelengthShifter_FreeWrites_ListOnly_Background_20230606_102516.root\t\n",
      "  KEY: TDirectoryFile\tEnergy;1\tEnergy\n",
      "  KEY: TDirectoryFile\tTime;1\tTime\n",
      "  KEY: TDirectoryFile\tPSD;1\tPSD\n",
      "  KEY: TDirectoryFile\tPSD_E;1\tPSD_E\n",
      "  KEY: TTime\tRealTime_0;1\tobject title\n",
      "  KEY: TTime\tLiveTime_0;1\tobject title\n",
      "  KEY: TTime\tRealTime_1;1\tobject title\n",
      "  KEY: TTime\tLiveTime_1;1\tobject title\n",
      "  KEY: TTime\tRealTime_2;1\tobject title\n",
      "  KEY: TTime\tLiveTime_2;1\tobject title\n"
     ]
    }
   ],
   "source": [
    "myFile_bkg.ls()"
   ]
  },
  {
   "cell_type": "code",
   "execution_count": 4,
   "id": "4c91c249",
   "metadata": {},
   "outputs": [],
   "source": [
    "dir_bkg = myFile_bkg.GetDirectory(\"Energy\");"
   ]
  },
  {
   "cell_type": "code",
   "execution_count": 5,
   "id": "acad7144",
   "metadata": {
    "scrolled": true
   },
   "outputs": [
    {
     "name": "stdout",
     "output_type": "stream",
     "text": [
      "TDirectoryFile*\t\tEnergy\tEnergy\n",
      " KEY: TH1D\t_F_EnergyCH0@DT5751_1615;1\t\n",
      " KEY: CalibrationCoefficient\tCalibration_0;1\tobject title\n",
      " KEY: TH1D\t_F_EnergyCH1@DT5751_1615;1\t\n",
      " KEY: CalibrationCoefficient\tCalibration_1;1\tobject title\n",
      " KEY: TH1D\t_F_EnergyCH2@DT5751_1615;1\t\n",
      " KEY: CalibrationCoefficient\tCalibration_2;1\tobject title\n"
     ]
    }
   ],
   "source": [
    "dir_bkg.ls()"
   ]
  },
  {
   "cell_type": "code",
   "execution_count": 9,
   "id": "a7203bd9",
   "metadata": {},
   "outputs": [],
   "source": [
    "hist_bkg = dir_bkg.Get(\"_F_EnergyCH2@DT5751_1615;1\")"
   ]
  },
  {
   "cell_type": "code",
   "execution_count": 10,
   "id": "c925de9a",
   "metadata": {},
   "outputs": [
    {
     "name": "stdout",
     "output_type": "stream",
     "text": [
      "TDirectoryFile*\t\tEnergy\tEnergy\n",
      " KEY: TH1D\t_F_EnergyCH0@DT5751_1615;1\t\n",
      " KEY: CalibrationCoefficient\tCalibration_0;1\tobject title\n",
      " KEY: TH1D\t_F_EnergyCH1@DT5751_1615;1\t\n",
      " KEY: CalibrationCoefficient\tCalibration_1;1\tobject title\n",
      " KEY: TH1D\t_F_EnergyCH2@DT5751_1615;1\t\n",
      " KEY: CalibrationCoefficient\tCalibration_2;1\tobject title\n"
     ]
    }
   ],
   "source": [
    "myFile_coin = ROOT.TFile.Open(\"/Users/bertabeltran/muon_data/data/wls/June2_amp_WavelengthShifter_FreeWrites_ListOnly_biggerInt_wiindow/FILTERED/HcompassF_June2_amp_WavelengthShifter_FreeWrites_ListOnly_biggerInt_wiindow_20230605_113152.root\")\n",
    "dir_coin = myFile_coin.GetDirectory(\"Energy\");\n",
    "dir_coin.ls()\n",
    "hist_coin = dir_coin.Get(\"_F_EnergyCH2@DT5751_1615\")"
   ]
  },
  {
   "cell_type": "code",
   "execution_count": 13,
   "id": "7c3f506d",
   "metadata": {},
   "outputs": [
    {
     "name": "stderr",
     "output_type": "stream",
     "text": [
      "Warning in <TCanvas::Constructor>: Deleting canvas with same name: myCanvasName\n",
      "Info in <TCanvas::Print>: png file /Users/bertabeltran/muon_data/data/wls/Chan2.png has been created\n"
     ]
    },
    {
     "data": {
      "image/png": "[encoded data removed]",
      "text/plain": [
       "<IPython.core.display.Image object>"
      ]
     },
     "metadata": {},
     "output_type": "display_data"
    }
   ],
   "source": [
    "\n",
    "c = ROOT.TCanvas(\"myCanvasName\",\"Scintillator with waveshifting fibre\",800,600)\n",
    "#hist_bkg.Rebin(4)\n",
    "#hist_coin.Rebin(4)\n",
    "hist_bkg.SetFillColor(0)\n",
    "#hist_bkg.GetYaxis().SetRangeUser(0, 0.05)\n",
    "hist_bkg.SetNormFactor(1)\n",
    "hist_bkg.Draw()\n",
    "hist_bkg.GetYaxis().SetTitleOffset(1.5) #1.2\n",
    "\n",
    "hist_coin.SetLineColor(42)\n",
    "hist_coin.SetFillColor(0)\n",
    "hist_coin.SetNormFactor(1)\n",
    "hist_coin.Draw(\"same\")\n",
    "#c.SetLogy()\n",
    "gStyle.SetOptStat(0)\n",
    "\n",
    "leg = ROOT.TLegend(.6,.7,.9,.9)\n",
    "leg.AddEntry(hist_bkg,\"Background Events\",\"L\")\n",
    "leg.AddEntry(hist_coin,\"Events in Coincidence\",\"L\")\n",
    "leg.Draw()\n",
    "\n",
    "tex=ROOT.TLatex(0.15,0.93,\"Chan2, no waveshifting fibre, amplified signal\");\n",
    "tex.SetNDC();\n",
    "tex.SetTextSize(0.04);\n",
    "tex.Draw();\n",
    "\n",
    "c.Draw()\n",
    "c.SaveAs(\"/Users/bertabeltran/muon_data/data/wls/Chan2.png\");"
   ]
  },
  {
   "cell_type": "code",
   "execution_count": null,
   "id": "73fd7303",
   "metadata": {},
   "outputs": [],
   "source": []
  }
 ],
 "metadata": {
  "kernelspec": {
   "display_name": "Python 3 (ipykernel)",
   "language": "python",
   "name": "python3"
  },
  "language_info": {
   "codemirror_mode": {
    "name": "ipython",
    "version": 3
   },
   "file_extension": ".py",
   "mimetype": "text/x-python",
   "name": "python",
   "nbconvert_exporter": "python",
   "pygments_lexer": "ipython3",
   "version": "3.10.9"
  }
 },
 "nbformat": 4,
 "nbformat_minor": 5
}
