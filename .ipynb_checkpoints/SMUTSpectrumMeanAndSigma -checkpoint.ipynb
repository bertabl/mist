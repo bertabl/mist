{
 "cells": [
  {
   "cell_type": "code",
   "execution_count": 29,
   "id": "41a3a2e9",
   "metadata": {
    "scrolled": true
   },
   "outputs": [
    {
     "name": "stdout",
     "output_type": "stream",
     "text": [
      "    Thickness before wrapping  A (mm)  FirstMuSpectrumMean  \\\n",
      "5                                9.45               1186.0   \n",
      "6                                9.39               1263.0   \n",
      "7                                9.31               1341.0   \n",
      "9                                9.35               1253.0   \n",
      "10                               9.42               1279.0   \n",
      "11                               8.93               1311.0   \n",
      "12                               8.66               1156.0   \n",
      "13                               9.00               1059.0   \n",
      "14                               9.30               1023.0   \n",
      "15                              10.02               1151.0   \n",
      "16                               9.25               1103.0   \n",
      "17                               8.70               1138.0   \n",
      "18                              10.30               1202.0   \n",
      "19                               8.81               1250.0   \n",
      "20                               9.29               1190.0   \n",
      "21                               9.72               1212.0   \n",
      "22                               8.84               1449.0   \n",
      "23                               8.86               1147.0   \n",
      "24                               9.29               1138.0   \n",
      "25                               8.92               1208.0   \n",
      "26                               9.04               1144.0   \n",
      "27                               9.60               1130.0   \n",
      "\n",
      "    FirstMuSpectrumSigma  \n",
      "5                  288.0  \n",
      "6                  406.0  \n",
      "7                  309.0  \n",
      "9                  214.0  \n",
      "10                 384.0  \n",
      "11                 286.0  \n",
      "12                 250.0  \n",
      "13                 289.0  \n",
      "14                 225.0  \n",
      "15                 244.0  \n",
      "16                 275.0  \n",
      "17                 252.0  \n",
      "18                 308.0  \n",
      "19                 276.0  \n",
      "20                 349.0  \n",
      "21                 281.0  \n",
      "22                 446.0  \n",
      "23                 241.0  \n",
      "24                 238.0  \n",
      "25                 293.0  \n",
      "26                 255.0  \n",
      "27                 257.0  \n"
     ]
    }
   ],
   "source": [
    "import pandas as pd\n",
    "\n",
    "df = pd.read_csv('/Users/bertabeltran/Downloads/Scintillators database - db.csv', usecols=['Thickness before wrapping  A (mm)','FirstMuSpectrumMean', 'FirstMuSpectrumSigma'])\n",
    "\n",
    "# drop rows that contain NaN values\n",
    "df = df.dropna()\n",
    "print(df)"
   ]
  },
  {
   "cell_type": "code",
   "execution_count": 23,
   "id": "07df6ed5",
   "metadata": {
    "scrolled": true
   },
   "outputs": [
    {
     "name": "stdout",
     "output_type": "stream",
     "text": [
      "[1217.0, 1247.0, 1257.0, 1186.0, 1263.0, 1341.0, 1148.0, 1253.0, 1279.0, 1311.0, 1156.0, 1059.0, 1023.0, 1151.0, 1103.0, 1138.0, 1202.0, 1250.0, 1190.0, 1212.0, 1449.0, 1147.0, 1138.0, 1208.0, 1144.0, 1130.0]\n",
      "[264.0, 256.0, 308.0, 288.0, 406.0, 309.0, 311.0, 214.0, 384.0, 286.0, 250.0, 289.0, 225.0, 244.0, 275.0, 252.0, 308.0, 276.0, 349.0, 281.0, 446.0, 241.0, 238.0, 293.0, 255.0, 257.0]\n"
     ]
    }
   ],
   "source": [
    "#https://saturncloud.io/blog/how-to-get-a-list-from-a-pandas-dataframe-column\n",
    "\n",
    "# extract a list with means >1000 \n",
    "thickness=  df[df['FirstMuSpectrumMean'] > 1000]['Thickness before wrapping  A (mm)'].tolist()\n",
    "mean = df[df['FirstMuSpectrumMean'] > 1000]['FirstMuSpectrumMean'].tolist()\n",
    "sigma = df[df['FirstMuSpectrumMean'] > 1000]['FirstMuSpectrumSigma '].tolist()\n",
    "print(mean)\n",
    "print(sigma)"
   ]
  },
  {
   "cell_type": "code",
   "execution_count": 25,
   "id": "46fb4d20",
   "metadata": {},
   "outputs": [
    {
     "data": {
      "image/png": "[encoded data removed]",
      "text/plain": [
       "<Figure size 640x480 with 2 Axes>"
      ]
     },
     "metadata": {},
     "output_type": "display_data"
    }
   ],
   "source": [
    "#https://python-graph-gallery.com/83-basic-2d-histograms-with-matplotlib/\n",
    "# libraries\n",
    "import matplotlib.pyplot as plt\n",
    "import numpy as np\n",
    " \n",
    "plt.hist2d(mean, sigma, bins=(20,20), cmap=plt.cm.BuPu)\n",
    "plt.colorbar()\n",
    "plt.title('Mean vs Sigma of the spectra')\n",
    "plt.xlabel('Mean')\n",
    "plt.ylabel('Sigma')\n",
    "plt.show() \n"
   ]
  },
  {
   "cell_type": "code",
   "execution_count": null,
   "id": "5cc3f362",
   "metadata": {},
   "outputs": [],
   "source": []
  }
 ],
 "metadata": {
  "kernelspec": {
   "display_name": "Python 3 (ipykernel)",
   "language": "python",
   "name": "python3"
  },
  "language_info": {
   "codemirror_mode": {
    "name": "ipython",
    "version": 3
   },
   "file_extension": ".py",
   "mimetype": "text/x-python",
   "name": "python",
   "nbconvert_exporter": "python",
   "pygments_lexer": "ipython3",
   "version": "3.11.5"
  }
 },
 "nbformat": 4,
 "nbformat_minor": 5
}
