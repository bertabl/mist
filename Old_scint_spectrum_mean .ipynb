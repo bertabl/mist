{
 "cells": [
  {
   "cell_type": "code",
   "execution_count": 3,
   "id": "8968fae8",
   "metadata": {},
   "outputs": [
    {
     "data": {
      "text/plain": [
       "30"
      ]
     },
     "execution_count": 3,
     "metadata": {},
     "output_type": "execute_result"
    },
    {
     "data": {
      "image/png": "[encoded data removed]",
      "text/plain": [
       "<Figure size 640x480 with 1 Axes>"
      ]
     },
     "metadata": {},
     "output_type": "display_data"
    }
   ],
   "source": [
    "import numpy as np \n",
    "import matplotlib.pyplot as plt\n",
    "\n",
    "old_means=np.array([1217,1247,1257,1186,1263,1341,1148,1253,1279,1311,1156,1059,1023,1151,\n",
    "1103,1138,1202,1250,1190,1212,1449,1147,1138,1208,1144,1130,1176,1189,1205,1281])\n",
    "_ = plt.hist(old_means, bins='auto')\n",
    "plt.xlabel(\"Old scintillator spectrum mean\")\n",
    "len(old_means)"
   ]
  },
  {
   "cell_type": "code",
   "execution_count": 2,
   "id": "8b417f71",
   "metadata": {},
   "outputs": [
    {
     "name": "stdout",
     "output_type": "stream",
     "text": [
      "Welcome to JupyROOT 6.28/00\n"
     ]
    }
   ],
   "source": [
    "import ROOT"
   ]
  },
  {
   "cell_type": "code",
   "execution_count": 4,
   "id": "65299019",
   "metadata": {},
   "outputs": [
    {
     "ename": "TypeError",
     "evalue": "none of the 2 overloaded methods succeeded. Full details:\n  void TH1::FillN(int ntimes, const double* x, const double* w, int stride = 1) =>\n    TypeError: could not convert argument 2 (could not convert argument to buffer or nullptr)\n  void TH1::FillN(int, const double*, const double*, const double*, int) =>\n    TypeError: takes at least 5 arguments (3 given)",
     "output_type": "error",
     "traceback": [
      "\u001b[0;31m---------------------------------------------------------------------------\u001b[0m",
      "\u001b[0;31mTypeError\u001b[0m                                 Traceback (most recent call last)",
      "Cell \u001b[0;32mIn[4], line 3\u001b[0m\n\u001b[1;32m      1\u001b[0m h \u001b[38;5;241m=\u001b[39m ROOT\u001b[38;5;241m.\u001b[39mTH1D(\u001b[38;5;124m\"\u001b[39m\u001b[38;5;124mh\u001b[39m\u001b[38;5;124m\"\u001b[39m,\u001b[38;5;124m\"\u001b[39m\u001b[38;5;124mmeans\u001b[39m\u001b[38;5;124m\"\u001b[39m,\u001b[38;5;241m100\u001b[39m,\u001b[38;5;241m1000\u001b[39m,\u001b[38;5;241m1500\u001b[39m)\n\u001b[1;32m      2\u001b[0m w \u001b[38;5;241m=\u001b[39m np\u001b[38;5;241m.\u001b[39mones(\u001b[38;5;241m30\u001b[39m)\n\u001b[0;32m----> 3\u001b[0m h\u001b[38;5;241m.\u001b[39mFillN(\u001b[38;5;241m30\u001b[39m,old_means,w)\n",
      "\u001b[0;31mTypeError\u001b[0m: none of the 2 overloaded methods succeeded. Full details:\n  void TH1::FillN(int ntimes, const double* x, const double* w, int stride = 1) =>\n    TypeError: could not convert argument 2 (could not convert argument to buffer or nullptr)\n  void TH1::FillN(int, const double*, const double*, const double*, int) =>\n    TypeError: takes at least 5 arguments (3 given)"
     ]
    }
   ],
   "source": [
    "h = ROOT.TH1D(\"h\",\"means\",100,1000,1500)\n",
    "w = np.ones(30)\n",
    "h.FillN(30,old_means,w)"
   ]
  },
  {
   "cell_type": "code",
   "execution_count": 23,
   "id": "34091df9",
   "metadata": {},
   "outputs": [
    {
     "name": "stderr",
     "output_type": "stream",
     "text": [
      "Warning in <TROOT::Append>: Replacing existing TH1: h1 (Potential memory leak).\n"
     ]
    }
   ],
   "source": [
    "import numpy as np\n",
    "#generate an array of normal distributed data with mean=5 and stddev=2 containing 1000 values\n",
    "x = np.random.normal(5,2,1000)\n",
    "w = np.ones(1000)\n",
    "h1 = ROOT.TH1D(\"h1\",\"h1 title\",50,0.,10.);\n",
    "h1.FillN(1000, x, w)"
   ]
  },
  {
   "cell_type": "code",
   "execution_count": null,
   "id": "0771c3df",
   "metadata": {},
   "outputs": [],
   "source": []
  }
 ],
 "metadata": {
  "kernelspec": {
   "display_name": "Python 3 (ipykernel)",
   "language": "python",
   "name": "python3"
  },
  "language_info": {
   "codemirror_mode": {
    "name": "ipython",
    "version": 3
   },
   "file_extension": ".py",
   "mimetype": "text/x-python",
   "name": "python",
   "nbconvert_exporter": "python",
   "pygments_lexer": "ipython3",
   "version": "3.11.5"
  }
 },
 "nbformat": 4,
 "nbformat_minor": 5
}
