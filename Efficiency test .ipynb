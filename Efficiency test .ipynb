{
 "cells": [
  {
   "cell_type": "code",
   "execution_count": 1,
   "id": "d2ce1294",
   "metadata": {},
   "outputs": [],
   "source": [
    "import uproot\n",
    "import numpy as np\n",
    "from matplotlib import pyplot as plt\n",
    "\n",
    "from os import path"
   ]
  },
  {
   "cell_type": "code",
   "execution_count": 6,
   "id": "5deadff5",
   "metadata": {},
   "outputs": [
    {
     "ename": "KeyInFileError",
     "evalue": "not found: 'Data_R' (with any cycle number)\n\n    Available keys: (none!)\n\nin file /Users/bertabeltran/mist/data/efficiency_test/full_double_eff_test_spectra_waves/RAW/SDataR_full_double_eff_test_spectra_waves.root",
     "output_type": "error",
     "traceback": [
      "\u001b[0;31m---------------------------------------------------------------------------\u001b[0m",
      "\u001b[0;31mKeyInFileError\u001b[0m                            Traceback (most recent call last)",
      "Cell \u001b[0;32mIn[6], line 5\u001b[0m\n\u001b[1;32m      3\u001b[0m \u001b[38;5;66;03m#file_path =\"/Users/bertabeltran/mist/data/efficiency_test/sec5_double_eff_test_spectra_waves/RAW/DataR_sec5_double_eff_test_spectra_waves.root\"\u001b[39;00m\n\u001b[1;32m      4\u001b[0m file\u001b[38;5;241m=\u001b[39muproot\u001b[38;5;241m.\u001b[39mopen(file_path)\n\u001b[0;32m----> 5\u001b[0m tree\u001b[38;5;241m=\u001b[39mfile[\u001b[38;5;124m\"\u001b[39m\u001b[38;5;124mData_R\u001b[39m\u001b[38;5;124m\"\u001b[39m]\n\u001b[1;32m      6\u001b[0m \u001b[38;5;28mprint\u001b[39m(tree\u001b[38;5;241m.\u001b[39mkeys())\n\u001b[1;32m      8\u001b[0m \u001b[38;5;66;03m#Load data for channels and timestamps\u001b[39;00m\n\u001b[1;32m      9\u001b[0m \u001b[38;5;66;03m#timestamps = tree[\"Timestamp\"].array(library = \"np\")*10**(-3) #Convert picoseconds to nano\u001b[39;00m\n",
      "File \u001b[0;32m~/anaconda3/lib/python3.11/site-packages/uproot/reading.py:2084\u001b[0m, in \u001b[0;36mReadOnlyDirectory.__getitem__\u001b[0;34m(self, where)\u001b[0m\n\u001b[1;32m   2081\u001b[0m     \u001b[38;5;28;01mreturn\u001b[39;00m step\n\u001b[1;32m   2083\u001b[0m \u001b[38;5;28;01melse\u001b[39;00m:\n\u001b[0;32m-> 2084\u001b[0m     \u001b[38;5;28;01mreturn\u001b[39;00m \u001b[38;5;28mself\u001b[39m\u001b[38;5;241m.\u001b[39mkey(where)\u001b[38;5;241m.\u001b[39mget()\n",
      "File \u001b[0;32m~/anaconda3/lib/python3.11/site-packages/uproot/reading.py:2032\u001b[0m, in \u001b[0;36mReadOnlyDirectory.key\u001b[0;34m(self, where)\u001b[0m\n\u001b[1;32m   2030\u001b[0m     \u001b[38;5;28;01mreturn\u001b[39;00m last\n\u001b[1;32m   2031\u001b[0m \u001b[38;5;28;01melif\u001b[39;00m cycle \u001b[38;5;129;01mis\u001b[39;00m \u001b[38;5;28;01mNone\u001b[39;00m:\n\u001b[0;32m-> 2032\u001b[0m     \u001b[38;5;28;01mraise\u001b[39;00m uproot\u001b[38;5;241m.\u001b[39mKeyInFileError(\n\u001b[1;32m   2033\u001b[0m         item, cycle\u001b[38;5;241m=\u001b[39m\u001b[38;5;124m\"\u001b[39m\u001b[38;5;124many\u001b[39m\u001b[38;5;124m\"\u001b[39m, keys\u001b[38;5;241m=\u001b[39m\u001b[38;5;28mself\u001b[39m\u001b[38;5;241m.\u001b[39mkeys(), file_path\u001b[38;5;241m=\u001b[39m\u001b[38;5;28mself\u001b[39m\u001b[38;5;241m.\u001b[39m_file\u001b[38;5;241m.\u001b[39mfile_path\n\u001b[1;32m   2034\u001b[0m     )\n\u001b[1;32m   2035\u001b[0m \u001b[38;5;28;01melse\u001b[39;00m:\n\u001b[1;32m   2036\u001b[0m     \u001b[38;5;28;01mraise\u001b[39;00m uproot\u001b[38;5;241m.\u001b[39mKeyInFileError(\n\u001b[1;32m   2037\u001b[0m         item, cycle\u001b[38;5;241m=\u001b[39mcycle, keys\u001b[38;5;241m=\u001b[39m\u001b[38;5;28mself\u001b[39m\u001b[38;5;241m.\u001b[39mkeys(), file_path\u001b[38;5;241m=\u001b[39m\u001b[38;5;28mself\u001b[39m\u001b[38;5;241m.\u001b[39m_file\u001b[38;5;241m.\u001b[39mfile_path\n\u001b[1;32m   2038\u001b[0m     )\n",
      "\u001b[0;31mKeyInFileError\u001b[0m: not found: 'Data_R' (with any cycle number)\n\n    Available keys: (none!)\n\nin file /Users/bertabeltran/mist/data/efficiency_test/full_double_eff_test_spectra_waves/RAW/SDataR_full_double_eff_test_spectra_waves.root"
     ]
    }
   ],
   "source": [
    "#Open double ROOT file \n",
    "file_path = \"/Users/bertabeltran/mist/data/efficiency_test/full_double_eff_test_spectra_waves/RAW/SDataR_full_double_eff_test_spectra_waves.root\"\n",
    "#file_path =\"/Users/bertabeltran/mist/data/efficiency_test/sec5_double_eff_test_spectra_waves/RAW/DataR_sec5_double_eff_test_spectra_waves.root\"\n",
    "file=uproot.open(file_path)\n",
    "tree=file[\"Data_R\"]\n",
    "print(tree.keys())\n",
    "\n",
    "#Load data for channels and timestamps\n",
    "#timestamps = tree[\"Timestamp\"].array(library = \"np\")*10**(-3) #Convert picoseconds to nano\n",
    "timestamps = tree[\"Timestamp\"].array(library = \"np\") # picoseconds\n",
    "channel = tree[\"Channel\"].array(library = \"np\")\n",
    "energy = tree[\"Energy\"].array(library = \"np\")\n",
    "flags = tree[\"Flags\"].array(library = \"np\")"
   ]
  },
  {
   "cell_type": "code",
   "execution_count": 5,
   "id": "70847abf",
   "metadata": {},
   "outputs": [
    {
     "ename": "NameError",
     "evalue": "name 'channel' is not defined",
     "output_type": "error",
     "traceback": [
      "\u001b[0;31m---------------------------------------------------------------------------\u001b[0m",
      "\u001b[0;31mNameError\u001b[0m                                 Traceback (most recent call last)",
      "Cell \u001b[0;32mIn[5], line 2\u001b[0m\n\u001b[1;32m      1\u001b[0m \u001b[38;5;66;03m#Create masks for channels\u001b[39;00m\n\u001b[0;32m----> 2\u001b[0m CH0_mask \u001b[38;5;241m=\u001b[39m channel \u001b[38;5;241m==\u001b[39m \u001b[38;5;241m0\u001b[39m\n\u001b[1;32m      3\u001b[0m CH1_mask \u001b[38;5;241m=\u001b[39m channel \u001b[38;5;241m==\u001b[39m \u001b[38;5;241m1\u001b[39m\n\u001b[1;32m      5\u001b[0m \u001b[38;5;66;03m#Get timestamps for each channel (time in picoseconds from the begining of the run)\u001b[39;00m\n",
      "\u001b[0;31mNameError\u001b[0m: name 'channel' is not defined"
     ]
    }
   ],
   "source": [
    "#Create masks for channels\n",
    "CH0_mask = channel == 0\n",
    "CH1_mask = channel == 1\n",
    "\n",
    "#Get timestamps for each channel (time in picoseconds from the begining of the run)\n",
    "CH0_timestamps = timestamps[CH0_mask]\n",
    "CH1_timestamps = timestamps[CH1_mask]\n",
    "\n",
    "\n",
    "#Calculate energy of events on each channel\n",
    "CH0_energy = energy[CH0_mask]\n",
    "CH1_energy = energy[CH1_mask]\n",
    "\n",
    "#calcuate the time difference between events in chn 0\n",
    "CH0_time_diff = np.diff(CH0_timestamps)\n",
    "CH0_time_diff=CH0_time_diff/1e+12 #make it seconds "
   ]
  },
  {
   "cell_type": "code",
   "execution_count": null,
   "id": "519a43b4",
   "metadata": {},
   "outputs": [],
   "source": [
    "len(CH0_timestamps)"
   ]
  },
  {
   "cell_type": "code",
   "execution_count": null,
   "id": "efa44583",
   "metadata": {},
   "outputs": [],
   "source": [
    "len(CH1_timestamps)"
   ]
  },
  {
   "cell_type": "code",
   "execution_count": null,
   "id": "6fa4dbe8",
   "metadata": {},
   "outputs": [],
   "source": [
    "# plot the time differences distribution to see if it looks right \n",
    "\n",
    "plt.hist(CH0_time_diff, bins = 100, histtype='stepfilled' ,density=True,color ='orange')\n",
    "#plt.hist(CH0_time_diff, bins = 100,range=(0,4), histtype='stepfilled' ,density=True,color ='orange')\n",
    "ax=plt.gca()\n",
    "ax.set_title(\"Sec 2 double stack Event Time Differences\")\n",
    "ax.set_xlabel(\"Time differeces (s) \")\n",
    "plt.yscale('log')\n",
    "\n",
    "\n",
    "plt.show()\n"
   ]
  },
  {
   "cell_type": "code",
   "execution_count": null,
   "id": "acd093e6",
   "metadata": {},
   "outputs": [],
   "source": [
    "# now I am going to try and fit the time differences plot with curve_fit\n",
    "\n",
    "import numpy as np\n",
    "from scipy.optimize import curve_fit\n",
    "#firts I define the exponential fucntion that I will be fitting \n",
    "def expo(x, a, b):\n",
    "    return  np.exp(a+(b*x))\n",
    "\n",
    "#here I caculate the bin centers for the fit               \n",
    "def bincenters(bins):\n",
    "    return (bins[1:] + bins[:-1]) / 2\n",
    "                   \n",
    "# define the histogram that I will be fitting to and return the bin contents and the bid edeges    \n",
    "bin_cont, bin_edges, patches = plt.hist(CH0_time_diff, bins = 100,histtype='stepfilled' , color ='blue',label =\"Time Differences\")\n",
    "                   \n",
    "# here I do the fit a return the fit values     \n",
    "param, param_cov = curve_fit(expo, bincenters(bin_edges),bin_cont)\n",
    "                   \n",
    "# print the values     \n",
    "print(\"Expo function coefficients:\")\n",
    "print(param)\n",
    "print(\"Covariance of coefficients:\")\n",
    "print(param_cov)\n",
    "\n",
    "# now I also want to draw the fitted function on top of the histogram \n",
    "fit_func= expo(bincenters(bin_edges),param[0] ,param[1] )\n",
    "plt.plot(bincenters(bin_edges), fit_func, 'red', linewidth=2, label =\"fit function \")       \n",
    "\n",
    "fit_eq= r\"exp$({:.2f} {:.2f}x)$\".format(param[0] ,param[1])\n",
    "\n",
    "ax=plt.gca()\n",
    "ax.text(8, 100, fit_eq, fontsize=15)\n",
    "ax.text(8, 40, \"rate={:.2f} cps\".format(abs(param[1])), fontsize=15)\n",
    "\n",
    "plt.legend()\n",
    "plt.yscale('log')\n",
    "ax.set_title(\"Double stack section 4 time diffeences\")\n",
    "ax.set_xlabel(\"Time differeces (s) \")\n",
    "ax.set_ylabel('Number of Events')\n",
    "plt.show()"
   ]
  },
  {
   "cell_type": "code",
   "execution_count": null,
   "id": "eefb6844",
   "metadata": {},
   "outputs": [],
   "source": [
    "# caculate the event rate for chan 0 by looking at the rate plot \n",
    "# first convert the time stamps to seconds \n",
    "CH0_timestamps_sec=CH0_timestamps/1e+12\n",
    "#now I floor this array to see only seconds \n",
    "rate=np.floor(CH0_timestamps_sec)\n",
    "rate"
   ]
  },
  {
   "cell_type": "code",
   "execution_count": null,
   "id": "5720956e",
   "metadata": {},
   "outputs": [],
   "source": [
    "fig, ax = plt.subplots(figsize=(12,6))\n",
    "bin_contents, bin_edges, patches =plt.hist(rate,bins = 17658, histtype='bar')\n",
    "#bin_contents, bin_edges, patches =plt.hist(rate, bins = 6832,range=(0,6831))\n",
    "#bin_centers = bin_edges[:-1] + np.diff(bin_edges) / 2\n",
    "ax = plt.gca()\n",
    "ax.set_ylabel(\"Count per second\")\n",
    "ax.set_xlabel(\"Seconds from the begining of the run\")"
   ]
  },
  {
   "cell_type": "code",
   "execution_count": null,
   "id": "bd803e07",
   "metadata": {},
   "outputs": [],
   "source": [
    "np.mean(bin_contents)"
   ]
  },
  {
   "cell_type": "code",
   "execution_count": null,
   "id": "2b5a4c66",
   "metadata": {},
   "outputs": [],
   "source": [
    "CH0_timestamps_min=CH0_timestamps_sec/60.\n",
    "CH0_timestamps_min"
   ]
  },
  {
   "cell_type": "code",
   "execution_count": null,
   "id": "2bf31016",
   "metadata": {},
   "outputs": [],
   "source": [
    "rate_min_0=np.floor(CH0_timestamps_min)\n",
    "rate_min_0"
   ]
  },
  {
   "cell_type": "code",
   "execution_count": null,
   "id": "78501574",
   "metadata": {},
   "outputs": [],
   "source": [
    "fig, ax = plt.subplots(figsize=(12,6))\n",
    "bin_contents, bin_edges, patches =plt.hist(rate_min_0,bins = 294, histtype='step')\n",
    "#bin_contents, bin_edges, patches =plt.hist(rate, bins = 6832,range=(0,6831))\n",
    "#bin_centers = bin_edges[:-1] + np.diff(bin_edges) / 2\n",
    "ax = plt.gca()\n",
    "ax.set_ylabel(\"Count per minute\")\n",
    "ax.set_xlabel(\"Minutes from the begining of the run\")"
   ]
  },
  {
   "cell_type": "code",
   "execution_count": null,
   "id": "a21d1f3c",
   "metadata": {},
   "outputs": [],
   "source": [
    "#Open triple ROOT file \n",
    "file_path_3 = \"/Users/bertabeltran/mist/data/efficiency_test/full_triple_eff_test_spectra_waves/RAW/SDataR_full_triple_eff_test_spectra_waves.root\"\n",
    "file3=uproot.open(file_path_3)\n",
    "tree3=file3[\"Data_R\"]\n",
    "print(tree3.keys())\n",
    "\n",
    "#Load data for channels and timestamps\n",
    "#timestamps = tree[\"Timestamp\"].array(library = \"np\")*10**(-3) #Convert picoseconds to nano\n",
    "timestamps3 = tree3[\"Timestamp\"].array(library = \"np\") # picoseconds\n",
    "channel3 = tree3[\"Channel\"].array(library = \"np\")\n",
    "energy3 = tree3[\"Energy\"].array(library = \"np\")\n",
    "flags3 = tree3[\"Flags\"].array(library = \"np\")"
   ]
  },
  {
   "cell_type": "code",
   "execution_count": null,
   "id": "d2f5238a",
   "metadata": {},
   "outputs": [],
   "source": [
    "#Create masks for channels\n",
    "CH2_mask = channel3 == 2\n",
    "\n",
    "\n",
    "#Get timestamps for each channel (time in picoseconds from the begining of the run)\n",
    "CH2_timestamps = timestamps3[CH2_mask]\n",
    "\n",
    "\n",
    "#Calculate energy of events on each channel\n",
    "CH2_energy = energy3[CH2_mask]\n",
    "\n",
    "\n",
    "#calcuate the time difference between events in chn 0\n",
    "CH2_time_diff = np.diff(CH2_timestamps)\n",
    "CH2_time_diff_sec=CH2_time_diff/1e+12 #make it seconds \n",
    "CH2_timestamps"
   ]
  },
  {
   "cell_type": "code",
   "execution_count": null,
   "id": "07ee509d",
   "metadata": {},
   "outputs": [],
   "source": [
    "# plot the time differences distribution to see if it looks right \n",
    "\n",
    "plt.hist(CH2_time_diff_sec, bins = 100, histtype='stepfilled',color ='orange')\n",
    "#plt.hist(CH0_time_diff, bins = 100,range=(0,4), histtype='stepfilled' ,density=True,color ='orange')\n",
    "ax=plt.gca()\n",
    "ax.set_title(\"Scint2  Event Time Differences\")\n",
    "ax.set_xlabel(\"Time differeces (s) \")\n",
    "plt.yscale('log')\n",
    "\n",
    "\n",
    "plt.show()\n"
   ]
  },
  {
   "cell_type": "code",
   "execution_count": null,
   "id": "fb99bef5",
   "metadata": {},
   "outputs": [],
   "source": [
    "# now I am going to try and fit the time differences plot with curve_fit\n",
    "\n",
    "import numpy as np\n",
    "from scipy.optimize import curve_fit\n",
    "#firts I define the exponential fucntion that I will be fitting \n",
    "def expo(x, a, b):\n",
    "    return  np.exp(a+(b*x))\n",
    "\n",
    "#here I caculate the bin centers for the fit               \n",
    "def bincenters(bins):\n",
    "    return (bins[1:] + bins[:-1]) / 2\n",
    "                   \n",
    "# define the histogram that I will be fitting to and return the bin contents and the bid edeges    \n",
    "bin_cont, bin_edges, patches = plt.hist(CH2_time_diff_sec, bins = 100,histtype='stepfilled' , color ='blue',label =\"Time Differences\")\n",
    "                   \n",
    "# here I do the fit a return the fit values     \n",
    "param, param_cov = curve_fit(expo, bincenters(bin_edges),bin_cont)\n",
    "                   \n",
    "# print the values     \n",
    "print(\"Expo function coefficients:\")\n",
    "print(param)\n",
    "print(\"Covariance of coefficients:\")\n",
    "print(param_cov)\n",
    "\n",
    "# now I also want to draw the fitted function on top of the histogram \n",
    "fit_func= expo(bincenters(bin_edges),param[0] ,param[1] )\n",
    "plt.plot(bincenters(bin_edges), fit_func, 'red', linewidth=2, label =\"fit function \")       \n",
    "\n",
    "fit_eq= r\"exp$({:.2f} {:.2f}x)$\".format(param[0] ,param[1])\n",
    "\n",
    "ax=plt.gca()\n",
    "ax.text(8, 100, fit_eq, fontsize=15)\n",
    "ax.text(8, 40, \"rate={:.2f} cps\".format(abs(param[1])), fontsize=15)\n",
    "\n",
    "plt.legend()\n",
    "plt.yscale('log')\n",
    "ax.set_title(\"Section 5 test section time diffeences\")\n",
    "ax.set_xlabel(\"Time differeces (s) \")\n",
    "ax.set_ylabel('Number of Events')\n",
    "plt.show()"
   ]
  },
  {
   "cell_type": "code",
   "execution_count": null,
   "id": "ac9ac641",
   "metadata": {},
   "outputs": [],
   "source": [
    "CH2_timestamps_sec=CH2_timestamps/1e+12\n",
    "CH2_timestamps_min=CH2_timestamps_sec/60\n",
    "rate_min_2=np.floor(CH2_timestamps_min)\n",
    "rate_min_2\n",
    "len(rate_min_2)"
   ]
  },
  {
   "cell_type": "code",
   "execution_count": null,
   "id": "ae9310ad",
   "metadata": {},
   "outputs": [],
   "source": [
    "fig, ax = plt.subplots(figsize=(12,6))\n",
    "plt.hist(rate_min_0,bins = 297, histtype='step',color='red',label='double stack')\n",
    "bin_contents, bin_edges, patches =plt.hist(rate_min_2,bins = 297, histtype='step',label='test section')\n",
    "\n",
    "#bin_contents, bin_edges, patches =plt.hist(rate, bins = 6832,range=(0,6831))\n",
    "#bin_centers = bin_edges[:-1] + np.diff(bin_edges) / 2\n",
    "ax = plt.gca()\n",
    "ax.set_ylabel(\"Count per minute\")\n",
    "ax.set_xlabel(\"Minutes from the begining of the run\")\n",
    "plt.title('Section 2 ( not corrected by area differences)')\n",
    "ax.legend(loc=(0.4, 0.85))\n",
    "\n",
    "\n"
   ]
  },
  {
   "cell_type": "code",
   "execution_count": null,
   "id": "e5c8691e",
   "metadata": {},
   "outputs": [],
   "source": []
  }
 ],
 "metadata": {
  "kernelspec": {
   "display_name": "Python 3 (ipykernel)",
   "language": "python",
   "name": "python3"
  },
  "language_info": {
   "codemirror_mode": {
    "name": "ipython",
    "version": 3
   },
   "file_extension": ".py",
   "mimetype": "text/x-python",
   "name": "python",
   "nbconvert_exporter": "python",
   "pygments_lexer": "ipython3",
   "version": "3.11.5"
  }
 },
 "nbformat": 4,
 "nbformat_minor": 5
}
