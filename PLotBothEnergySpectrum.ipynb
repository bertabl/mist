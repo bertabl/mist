{
 "cells": [
  {
   "cell_type": "code",
   "execution_count": 1,
   "id": "3d8f81b3",
   "metadata": {},
   "outputs": [],
   "source": [
    "import uproot\n",
    "file = uproot.open(\"/Users/bertabeltran/muon_data/data/SDataF_May04.root\")"
   ]
  },
  {
   "cell_type": "markdown",
   "id": "91939611",
   "metadata": {},
   "source": [
    "Here I look what is inside the .root file "
   ]
  },
  {
   "cell_type": "code",
   "execution_count": 2,
   "id": "00d1882f",
   "metadata": {},
   "outputs": [
    {
     "data": {
      "text/plain": [
       "{'Data_F;1': 'TTree'}"
      ]
     },
     "execution_count": 2,
     "metadata": {},
     "output_type": "execute_result"
    }
   ],
   "source": [
    "file.classnames()"
   ]
  },
  {
   "cell_type": "markdown",
   "id": "1aaf0772",
   "metadata": {},
   "source": [
    "I see that inside the file there is a single tree called Data_F, so I define a vairiable ponting to it \n"
   ]
  },
  {
   "cell_type": "code",
   "execution_count": 4,
   "id": "bdb03d2e",
   "metadata": {},
   "outputs": [],
   "source": [
    "tree=file['Data_F']"
   ]
  },
  {
   "cell_type": "markdown",
   "id": "ab94193e",
   "metadata": {},
   "source": [
    "Here I am checking the branches in the tree. arrays() loads the braches in the tree called Data_F"
   ]
  },
  {
   "cell_type": "code",
   "execution_count": 41,
   "id": "c7f929d2",
   "metadata": {},
   "outputs": [
    {
     "data": {
      "text/html": [
       "<pre>[{Channel: 1, Timestamp: 136855450622655, Board: 0, Energy: 1622, ...},\n",
       " {Channel: 0, Timestamp: 136855450626124, Board: 0, Energy: 1189, ...},\n",
       " {Channel: 1, Timestamp: 275002827848281, Board: 0, Energy: 2100, ...},\n",
       " {Channel: 0, Timestamp: 275002827850655, Board: 0, Energy: 1051, ...},\n",
       " {Channel: 0, Timestamp: 330476031674812, Board: 0, Energy: 2218, ...},\n",
       " {Channel: 1, Timestamp: 330476031676624, Board: 0, Energy: 2217, ...},\n",
       " {Channel: 0, Timestamp: 503095611677686, Board: 0, Energy: 1741, ...},\n",
       " {Channel: 1, Timestamp: 503095611681312, Board: 0, Energy: 1314, ...},\n",
       " {Channel: 1, Timestamp: 518772343864749, Board: 0, Energy: 2767, ...},\n",
       " {Channel: 0, Timestamp: 518772343867499, Board: 0, Energy: 1038, ...},\n",
       " ...,\n",
       " {Channel: 1, Timestamp: 71027695510241000, Board: 0, Energy: 736, ...},\n",
       " {Channel: 0, Timestamp: 71075461692027156, Board: 0, Energy: 2400, ...},\n",
       " {Channel: 1, Timestamp: 71075461692027249, Board: 0, Energy: 2383, ...},\n",
       " {Channel: 0, Timestamp: 71174652538030624, Board: 0, Energy: 1149, ...},\n",
       " {Channel: 1, Timestamp: 71174652538031811, Board: 0, Energy: 1105, ...},\n",
       " {Channel: 1, Timestamp: 71285580779082718, Board: 0, Energy: 2124, ...},\n",
       " {Channel: 0, Timestamp: 71285580779084093, Board: 0, Energy: 1335, ...},\n",
       " {Channel: 0, Timestamp: 71533196920732359, Board: 0, Energy: 2093, ...},\n",
       " {Channel: 1, Timestamp: 71533196920733562, Board: 0, Energy: 2323, ...}]\n",
       "-------------------------------------------------------------------------\n",
       "type: 6062 * {\n",
       "    Channel: uint16,\n",
       "    Timestamp: uint64,\n",
       "    Board: uint16,\n",
       "    Energy: uint16,\n",
       "    EnergyShort: uint16,\n",
       "    Flags: uint32,\n",
       "    Samples: var * int16\n",
       "}</pre>"
      ],
      "text/plain": [
       "<Array [{Channel: 1, Timestamp: ..., ...}, ...] type='6062 * {Channel: uint...'>"
      ]
     },
     "execution_count": 41,
     "metadata": {},
     "output_type": "execute_result"
    }
   ],
   "source": [
    "tree.arrays()"
   ]
  },
  {
   "cell_type": "code",
   "execution_count": 6,
   "id": "dfaa6dbd",
   "metadata": {},
   "outputs": [
    {
     "data": {
      "text/plain": [
       "[<TBranch 'Channel' at 0x7fd516aeb5e0>,\n",
       " <TBranch 'Timestamp' at 0x7fd516aebe80>,\n",
       " <TBranch 'Board' at 0x7fd516af44f0>,\n",
       " <TBranch 'Energy' at 0x7fd516af4c10>,\n",
       " <TBranch 'EnergyShort' at 0x7fd516af5330>,\n",
       " <TBranch 'Flags' at 0x7fd516af5a50>,\n",
       " <TBranchElement 'Samples' at 0x7fd516af6170>]"
      ]
     },
     "execution_count": 6,
     "metadata": {},
     "output_type": "execute_result"
    }
   ],
   "source": [
    "tree.values()"
   ]
  },
  {
   "cell_type": "code",
   "execution_count": 14,
   "id": "72ac99fb",
   "metadata": {},
   "outputs": [],
   "source": [
    "energy_branch=tree[\"Energy\"].array()"
   ]
  },
  {
   "cell_type": "code",
   "execution_count": 11,
   "id": "3ef22067",
   "metadata": {},
   "outputs": [
    {
     "data": {
      "text/plain": [
       "6062"
      ]
     },
     "execution_count": 11,
     "metadata": {},
     "output_type": "execute_result"
    }
   ],
   "source": [
    "len(energy_branch)"
   ]
  },
  {
   "cell_type": "code",
   "execution_count": 15,
   "id": "a48d69e1",
   "metadata": {},
   "outputs": [],
   "source": [
    "channel_branch=tree[\"Channel\"].array()"
   ]
  },
  {
   "cell_type": "code",
   "execution_count": 16,
   "id": "5bda41e5",
   "metadata": {},
   "outputs": [
    {
     "data": {
      "text/html": [
       "<pre>[False,\n",
       " True,\n",
       " False,\n",
       " True,\n",
       " True,\n",
       " False,\n",
       " True,\n",
       " False,\n",
       " False,\n",
       " True,\n",
       " ...,\n",
       " False,\n",
       " True,\n",
       " False,\n",
       " True,\n",
       " False,\n",
       " False,\n",
       " True,\n",
       " True,\n",
       " False]\n",
       "-----------------\n",
       "type: 6062 * bool</pre>"
      ],
      "text/plain": [
       "<Array [False, True, False, True, ..., True, True, False] type='6062 * bool'>"
      ]
     },
     "execution_count": 16,
     "metadata": {},
     "output_type": "execute_result"
    }
   ],
   "source": [
    "channel_branch==0"
   ]
  },
  {
   "cell_type": "code",
   "execution_count": 17,
   "id": "68da3a5e",
   "metadata": {},
   "outputs": [],
   "source": [
    "chnannel_0_mask=channel_branch==0"
   ]
  },
  {
   "cell_type": "code",
   "execution_count": 18,
   "id": "3166e134",
   "metadata": {},
   "outputs": [],
   "source": [
    "chnannel_1_mask=channel_branch==1"
   ]
  },
  {
   "cell_type": "code",
   "execution_count": 20,
   "id": "13599452",
   "metadata": {},
   "outputs": [
    {
     "data": {
      "text/plain": [
       "3031"
      ]
     },
     "execution_count": 20,
     "metadata": {},
     "output_type": "execute_result"
    }
   ],
   "source": [
    "import numpy as np\n",
    "np.sum(chnannel_0_mask)"
   ]
  },
  {
   "cell_type": "code",
   "execution_count": 21,
   "id": "e22d3c88",
   "metadata": {},
   "outputs": [
    {
     "data": {
      "text/plain": [
       "3031"
      ]
     },
     "execution_count": 21,
     "metadata": {},
     "output_type": "execute_result"
    }
   ],
   "source": [
    "np.sum(chnannel_1_mask)"
   ]
  },
  {
   "cell_type": "code",
   "execution_count": 24,
   "id": "cca254c1",
   "metadata": {},
   "outputs": [
    {
     "data": {
      "text/html": [
       "<pre>[1189,\n",
       " 1051,\n",
       " 2218,\n",
       " 1741,\n",
       " 1038,\n",
       " 1879,\n",
       " 1847,\n",
       " 1784,\n",
       " 1287,\n",
       " 1472,\n",
       " ...,\n",
       " 2241,\n",
       " 1066,\n",
       " 1274,\n",
       " 1293,\n",
       " 1377,\n",
       " 2400,\n",
       " 1149,\n",
       " 1335,\n",
       " 2093]\n",
       "-------------------\n",
       "type: 3031 * uint16</pre>"
      ],
      "text/plain": [
       "<Array [1189, 1051, 2218, 1741, ..., 1149, 1335, 2093] type='3031 * uint16'>"
      ]
     },
     "execution_count": 24,
     "metadata": {},
     "output_type": "execute_result"
    }
   ],
   "source": [
    "energy_branch[chnannel_0_mask]"
   ]
  },
  {
   "cell_type": "code",
   "execution_count": 25,
   "id": "95daa6c2",
   "metadata": {},
   "outputs": [
    {
     "data": {
      "text/plain": [
       "6062"
      ]
     },
     "execution_count": 25,
     "metadata": {},
     "output_type": "execute_result"
    }
   ],
   "source": [
    "len(energy_branch)"
   ]
  },
  {
   "cell_type": "code",
   "execution_count": 26,
   "id": "94c7d1bc",
   "metadata": {},
   "outputs": [
    {
     "data": {
      "text/plain": [
       "3031"
      ]
     },
     "execution_count": 26,
     "metadata": {},
     "output_type": "execute_result"
    }
   ],
   "source": [
    "len(energy_branch[chnannel_0_mask])"
   ]
  },
  {
   "cell_type": "code",
   "execution_count": 27,
   "id": "57a3a831",
   "metadata": {},
   "outputs": [],
   "source": [
    "import matplotlib.pyplot as plt"
   ]
  },
  {
   "cell_type": "code",
   "execution_count": 40,
   "id": "ea7a99af",
   "metadata": {},
   "outputs": [
    {
     "data": {
      "image/png": "[encoded data removed]",
      "text/plain": [
       "<Figure size 640x480 with 1 Axes>"
      ]
     },
     "metadata": {},
     "output_type": "display_data"
    }
   ],
   "source": [
    "plt.hist([energy_branch[chnannel_0_mask], energy_branch[chnannel_1_mask]],\n",
    "         label=['Top', 'Bottom'],\n",
    "         bins=50, range=(0, 4000))\n",
    "plt.title('May 4 run')\n",
    "plt.xlabel('ADC channel (chan 0)')\n",
    "plt.ylabel('Counts')\n",
    "plt.legend()\n",
    "plt.show()"
   ]
  },
  {
   "cell_type": "code",
   "execution_count": null,
   "id": "5377ca50",
   "metadata": {},
   "outputs": [],
   "source": []
  }
 ],
 "metadata": {
  "kernelspec": {
   "display_name": "Python 3 (ipykernel)",
   "language": "python",
   "name": "python3"
  },
  "language_info": {
   "codemirror_mode": {
    "name": "ipython",
    "version": 3
   },
   "file_extension": ".py",
   "mimetype": "text/x-python",
   "name": "python",
   "nbconvert_exporter": "python",
   "pygments_lexer": "ipython3",
   "version": "3.10.9"
  }
 },
 "nbformat": 4,
 "nbformat_minor": 5
}
